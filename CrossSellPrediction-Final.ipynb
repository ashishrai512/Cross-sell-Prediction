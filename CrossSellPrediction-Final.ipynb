{
 "cells": [
  {
   "cell_type": "code",
   "execution_count": null,
   "metadata": {},
   "outputs": [],
   "source": [
    "from sklearn.model_selection import StratifiedKFold,KFold,GroupKFold\n",
    "import warnings\n",
    "warnings.filterwarnings('ignore')\n",
    "import time\n",
    "\n",
    "from catboost import CatBoostClassifier\n",
    "import numpy as np\n",
    "import matplotlib.pyplot as plt\n",
    "import pandas as pd\n",
    "from sklearn.preprocessing import LabelEncoder ,OneHotEncoder\n",
    "import xgboost\n",
    "from sklearn.model_selection import train_test_split\n",
    "from sklearn.metrics import confusion_matrix ,precision_recall_curve\n",
    "from sklearn.metrics import roc_auc_score\n",
    "import seaborn as sns\n",
    "\n",
    "import warnings\n",
    "warnings.filterwarnings('ignore')\n",
    "pd.set_option('display.max_columns',100)\n"
   ]
  },
  {
   "cell_type": "code",
   "execution_count": null,
   "metadata": {},
   "outputs": [],
   "source": [
    "train=pd.read_csv('\\\\Users\\\\91993\\\\Desktop\\\\data\\\\train.csv_VsW9EGx\\\\train.csv')\n",
    "test=pd.read_csv('\\\\Users\\\\91993\\\\Desktop\\\\data\\\\test.csv_yAFwdy2\\\\test.csv')\n",
    "sample=pd.read_csv('\\\\Users\\\\91993\\\\Desktop\\\\data\\\\sample_submission_iA3afxn.csv')"
   ]
  },
  {
   "cell_type": "code",
   "execution_count": null,
   "metadata": {},
   "outputs": [],
   "source": [
    "output=np.array(train['Response'].value_counts())"
   ]
  },
  {
   "cell_type": "code",
   "execution_count": null,
   "metadata": {},
   "outputs": [],
   "source": [
    "GenderMap={\n",
    "    'Male':0,\n",
    "    'Female':1\n",
    "}\n",
    "\n",
    "vehicleAgeMap={\n",
    "    '< 1 Year':1,\n",
    "    '1-2 Year':2,\n",
    "    '> 2 Years':4,\n",
    "}\n",
    "\n",
    "vehicleDamageMap={\n",
    "    'Yes':2,\n",
    "    'No':1\n",
    "}"
   ]
  },
  {
   "cell_type": "code",
   "execution_count": null,
   "metadata": {},
   "outputs": [],
   "source": [
    "y=train['Response']\n",
    "train.drop(columns=['Response'],inplace=True)\n",
    "train['train_or_test']='train'\n",
    "test['train_or_test']='test'\n",
    "df=pd.concat([train,test])\n",
    "df.drop(columns=['id'],inplace=True)"
   ]
  },
  {
   "cell_type": "code",
   "execution_count": null,
   "metadata": {},
   "outputs": [],
   "source": [
    "df[\"Region_Code\"]= df[\"Region_Code\"].astype(int) \n",
    "df[\"Policy_Sales_Channel\"]= df[\"Policy_Sales_Channel\"].astype(int)\n",
    "df[\"Vintage\"]= df[\"Vintage\"].astype(float)\n",
    "df[\"Age\"]= df[\"Age\"].astype(float) "
   ]
  },
  {
   "cell_type": "code",
   "execution_count": null,
   "metadata": {},
   "outputs": [],
   "source": [
    "cols=['Gender', 'Driving_License', 'Region_Code','Previously_Insured', 'Vehicle_Age', 'Vehicle_Damage']\n",
    "df['amount']=df.groupby(cols)['Annual_Premium'].transform('mean')\n",
    "#df['unique_policy']=df.groupby(cols)['Policy_Sales_Channel'].transform('nunique')\n",
    "#df['unique_policy']=df['unique_policy'].astype(float)\n",
    "#df['per_amount']=df.groupby(cols)['Vintage'].transform('mean')"
   ]
  },
  {
   "cell_type": "code",
   "execution_count": null,
   "metadata": {},
   "outputs": [],
   "source": [
    "df['Vehicle_Age']=df['Vehicle_Age'].map(vehicleAgeMap)\n",
    "df['Gender']=df['Gender'].map(GenderMap)\n",
    "df['Vehicle_Damage']=df['Vehicle_Damage'].map(vehicleDamageMap)"
   ]
  },
  {
   "cell_type": "code",
   "execution_count": null,
   "metadata": {},
   "outputs": [],
   "source": [
    "#df['damage to Age Ratio']=df['Vehicle_Damage']/df['Vehicle_Age']"
   ]
  },
  {
   "cell_type": "code",
   "execution_count": null,
   "metadata": {},
   "outputs": [],
   "source": [
    "df['total_policy_in_region']=df.groupby(['Region_Code'])['Policy_Sales_Channel'].transform('nunique')\n",
    "df['total_region_covered_by_policy']=df.groupby(['Policy_Sales_Channel'])['Region_Code'].transform('nunique')\n",
    "df['total_policy_in_region']=df['total_policy_in_region'].astype(float)\n",
    "df['total_region_covered_by_policy']=df['total_region_covered_by_policy'].astype(float)\n",
    "df['Amount_per_policy_channel']=df.groupby(['Policy_Sales_Channel'])['Annual_Premium'].transform('mean')"
   ]
  },
  {
   "cell_type": "code",
   "execution_count": null,
   "metadata": {},
   "outputs": [],
   "source": [
    "train=df.loc[df.train_or_test.isin(['train'])]\n",
    "test=df.loc[df.train_or_test.isin(['test'])]\n",
    "train.drop(columns={'train_or_test'},axis=1,inplace=True)\n",
    "test.drop(columns={'train_or_test'},axis=1,inplace=True)"
   ]
  },
  {
   "cell_type": "code",
   "execution_count": null,
   "metadata": {},
   "outputs": [],
   "source": [
    "output[0]/output[1]"
   ]
  },
  {
   "cell_type": "code",
   "execution_count": null,
   "metadata": {},
   "outputs": [],
   "source": [
    "categorical_features_indices = np.where(train.dtypes != np.float)[0]"
   ]
  },
  {
   "cell_type": "code",
   "execution_count": null,
   "metadata": {},
   "outputs": [],
   "source": [
    "categorical_features_indices"
   ]
  },
  {
   "cell_type": "code",
   "execution_count": null,
   "metadata": {},
   "outputs": [],
   "source": [
    "import time\n",
    "from sklearn.model_selection import StratifiedKFold,RepeatedStratifiedKFold\n",
    "skf = StratifiedKFold(n_splits=10,shuffle=True,random_state=101)\n",
    "#skf = RepeatedStratifiedKFold(n_splits=10,n_repeats=2,random_state=0)\n",
    "cv_score = []\n",
    "clf_list=[]\n",
    "#pred_test =np.zeros((len(test_),11))\n",
    "\n",
    "X=train\n",
    "i=0\n",
    "for train_index,test_index in skf.split(train,y):\n",
    "    x_train,x_val = train.iloc[train_index,:],train.iloc[test_index,:]\n",
    "    y_train,y_val = y[train_index],y[test_index]\n",
    "    start = time.time()\n",
    "    eval_set=[(x_val,y_val)]\n",
    "    \n",
    "    clf=CatBoostClassifier(n_estimators=1000,\n",
    "                       random_state=0,\n",
    "                       eval_metric='AUC',\n",
    "                       learning_rate=0.08,\n",
    "                       scale_pos_weight=4,\n",
    "                       #task_type='GPU',\n",
    "                       cat_features=categorical_features_indices\n",
    "                       #num_leaves=64\n",
    "                       )\n",
    "\n",
    "    clf.fit(x_train,y_train,early_stopping_rounds=100,eval_set=eval_set, verbose=100)\n",
    "     \n",
    "    #clf = xgboost.XGBClassifier(gpu_id=0,tree_method='gpu_hist',max_depth=8,scale_pos_weight=output[0]/output[1],n_estimators=400,learning_rate=0.015)\n",
    "    #clf=xgboost.XGBClassifier(max_depth=5,scale_pos_weight=output[0]/output[1],n_estimators=1000,learning_rate=0.05)\n",
    "    #clf = xgboost.XGBClassifier(gpu_id=0,tree_method='gpu_hist',max_depth=8,min_child_weight=77,scale_pos_weight=output[0]/output[1],n_estimators=437,learning_rate=0.01875698662271597)\n",
    "    #clf.fit(x_train,y_train,eval_set=eval_set,early_stopping_rounds=100,eval_metric='auc',verbose=100)\n",
    "   \n",
    "    elapsed = time.time() - start\n",
    "    print(\"Parallel Thread XGBoost and CV: %f\" % (elapsed))\n",
    "    clf_list.append(clf)\n",
    "    y_pred=clf.predict_proba(x_val)[:,1]\n",
    "   # score = accuracy_score(y_val,clf.predict(x_val))\n",
    "    score=roc_auc_score(y_val, y_pred)\n",
    "    i=i+1\n",
    "    print(i,score)\n",
    "    cv_score.append(score)\n",
    "    \n",
    "print(np.mean(cv_score))"
   ]
  },
  {
   "cell_type": "code",
   "execution_count": null,
   "metadata": {},
   "outputs": [],
   "source": [
    "pred_test =np.zeros(len(test))\n",
    "for clf in clf_list:\n",
    "    pred_test=pred_test+clf.predict_proba(test)[:,1]\n",
    "    #pred_test=max_prob(pred_test,clf.predict_proba(df_test.values))\n",
    "pred_test = pred_test/10\n",
    "\n",
    "sample['Response']=pred_test\n",
    "sample.to_csv('sample149.csv',index=False)"
   ]
  },
  {
   "cell_type": "code",
   "execution_count": null,
   "metadata": {},
   "outputs": [],
   "source": []
  },
  {
   "cell_type": "code",
   "execution_count": null,
   "metadata": {},
   "outputs": [],
   "source": []
  },
  {
   "cell_type": "code",
   "execution_count": null,
   "metadata": {},
   "outputs": [],
   "source": []
  },
  {
   "cell_type": "code",
   "execution_count": null,
   "metadata": {},
   "outputs": [],
   "source": []
  },
  {
   "cell_type": "code",
   "execution_count": null,
   "metadata": {},
   "outputs": [],
   "source": []
  },
  {
   "cell_type": "code",
   "execution_count": null,
   "metadata": {},
   "outputs": [],
   "source": []
  },
  {
   "cell_type": "code",
   "execution_count": null,
   "metadata": {},
   "outputs": [],
   "source": []
  },
  {
   "cell_type": "code",
   "execution_count": null,
   "metadata": {},
   "outputs": [],
   "source": []
  },
  {
   "cell_type": "code",
   "execution_count": null,
   "metadata": {},
   "outputs": [],
   "source": []
  },
  {
   "cell_type": "code",
   "execution_count": null,
   "metadata": {},
   "outputs": [],
   "source": []
  },
  {
   "cell_type": "code",
   "execution_count": null,
   "metadata": {},
   "outputs": [],
   "source": []
  }
 ],
 "metadata": {
  "kernelspec": {
   "display_name": "Python 3",
   "language": "python",
   "name": "python3"
  },
  "language_info": {
   "codemirror_mode": {
    "name": "ipython",
    "version": 3
   },
   "file_extension": ".py",
   "mimetype": "text/x-python",
   "name": "python",
   "nbconvert_exporter": "python",
   "pygments_lexer": "ipython3",
   "version": "3.7.3"
  }
 },
 "nbformat": 4,
 "nbformat_minor": 4
}
