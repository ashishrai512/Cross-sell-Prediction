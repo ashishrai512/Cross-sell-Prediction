{
 "cells": [
  {
   "cell_type": "code",
   "execution_count": 1,
   "metadata": {},
   "outputs": [
    {
     "data": {
      "text/html": [
       "<style>.container { width:100% !important; }</style>"
      ],
      "text/plain": [
       "<IPython.core.display.HTML object>"
      ]
     },
     "metadata": {},
     "output_type": "display_data"
    }
   ],
   "source": [
    "import pandas as pd\n",
    "import numpy as np\n",
    "\n",
    "import lightgbm as lgb\n",
    "import catboost as cat\n",
    "import xgboost as xgb\n",
    "\n",
    "from sklearn.metrics import *\n",
    "from sklearn.model_selection import *\n",
    "\n",
    "from sklearn import preprocessing\n",
    "le = preprocessing.LabelEncoder()\n",
    "import matplotlib.pyplot as plt\n",
    "import seaborn as sns\n",
    "\n",
    "from IPython.core.display import display, HTML\n",
    "display(HTML(\"<style>.container { width:100% !important; }</style>\"))\n",
    "import warnings\n",
    "warnings.filterwarnings(\"ignore\")\n",
    "\n",
    "pd.set_option('display.max_rows',None)\n",
    "pd.set_option('display.max_columns',None)"
   ]
  },
  {
   "cell_type": "code",
   "execution_count": 2,
   "metadata": {},
   "outputs": [],
   "source": [
    "train=pd.read_csv('train.csv')\n",
    "test=pd.read_csv('test.csv')"
   ]
  },
  {
   "cell_type": "code",
   "execution_count": 3,
   "metadata": {},
   "outputs": [
    {
     "data": {
      "text/html": [
       "<div>\n",
       "<style scoped>\n",
       "    .dataframe tbody tr th:only-of-type {\n",
       "        vertical-align: middle;\n",
       "    }\n",
       "\n",
       "    .dataframe tbody tr th {\n",
       "        vertical-align: top;\n",
       "    }\n",
       "\n",
       "    .dataframe thead th {\n",
       "        text-align: right;\n",
       "    }\n",
       "</style>\n",
       "<table border=\"1\" class=\"dataframe\">\n",
       "  <thead>\n",
       "    <tr style=\"text-align: right;\">\n",
       "      <th></th>\n",
       "      <th>id</th>\n",
       "      <th>Gender</th>\n",
       "      <th>Age</th>\n",
       "      <th>Driving_License</th>\n",
       "      <th>Region_Code</th>\n",
       "      <th>Previously_Insured</th>\n",
       "      <th>Vehicle_Age</th>\n",
       "      <th>Vehicle_Damage</th>\n",
       "      <th>Annual_Premium</th>\n",
       "      <th>Policy_Sales_Channel</th>\n",
       "      <th>Vintage</th>\n",
       "      <th>Response</th>\n",
       "    </tr>\n",
       "  </thead>\n",
       "  <tbody>\n",
       "    <tr>\n",
       "      <th>0</th>\n",
       "      <td>1</td>\n",
       "      <td>Male</td>\n",
       "      <td>44</td>\n",
       "      <td>1</td>\n",
       "      <td>28.0</td>\n",
       "      <td>0</td>\n",
       "      <td>&gt; 2 Years</td>\n",
       "      <td>Yes</td>\n",
       "      <td>40454.0</td>\n",
       "      <td>26.0</td>\n",
       "      <td>217</td>\n",
       "      <td>1</td>\n",
       "    </tr>\n",
       "    <tr>\n",
       "      <th>1</th>\n",
       "      <td>2</td>\n",
       "      <td>Male</td>\n",
       "      <td>76</td>\n",
       "      <td>1</td>\n",
       "      <td>3.0</td>\n",
       "      <td>0</td>\n",
       "      <td>1-2 Year</td>\n",
       "      <td>No</td>\n",
       "      <td>33536.0</td>\n",
       "      <td>26.0</td>\n",
       "      <td>183</td>\n",
       "      <td>0</td>\n",
       "    </tr>\n",
       "    <tr>\n",
       "      <th>2</th>\n",
       "      <td>3</td>\n",
       "      <td>Male</td>\n",
       "      <td>47</td>\n",
       "      <td>1</td>\n",
       "      <td>28.0</td>\n",
       "      <td>0</td>\n",
       "      <td>&gt; 2 Years</td>\n",
       "      <td>Yes</td>\n",
       "      <td>38294.0</td>\n",
       "      <td>26.0</td>\n",
       "      <td>27</td>\n",
       "      <td>1</td>\n",
       "    </tr>\n",
       "    <tr>\n",
       "      <th>3</th>\n",
       "      <td>4</td>\n",
       "      <td>Male</td>\n",
       "      <td>21</td>\n",
       "      <td>1</td>\n",
       "      <td>11.0</td>\n",
       "      <td>1</td>\n",
       "      <td>&lt; 1 Year</td>\n",
       "      <td>No</td>\n",
       "      <td>28619.0</td>\n",
       "      <td>152.0</td>\n",
       "      <td>203</td>\n",
       "      <td>0</td>\n",
       "    </tr>\n",
       "    <tr>\n",
       "      <th>4</th>\n",
       "      <td>5</td>\n",
       "      <td>Female</td>\n",
       "      <td>29</td>\n",
       "      <td>1</td>\n",
       "      <td>41.0</td>\n",
       "      <td>1</td>\n",
       "      <td>&lt; 1 Year</td>\n",
       "      <td>No</td>\n",
       "      <td>27496.0</td>\n",
       "      <td>152.0</td>\n",
       "      <td>39</td>\n",
       "      <td>0</td>\n",
       "    </tr>\n",
       "  </tbody>\n",
       "</table>\n",
       "</div>"
      ],
      "text/plain": [
       "   id  Gender  Age  Driving_License  Region_Code  Previously_Insured  \\\n",
       "0   1    Male   44                1         28.0                   0   \n",
       "1   2    Male   76                1          3.0                   0   \n",
       "2   3    Male   47                1         28.0                   0   \n",
       "3   4    Male   21                1         11.0                   1   \n",
       "4   5  Female   29                1         41.0                   1   \n",
       "\n",
       "  Vehicle_Age Vehicle_Damage  Annual_Premium  Policy_Sales_Channel  Vintage  \\\n",
       "0   > 2 Years            Yes         40454.0                  26.0      217   \n",
       "1    1-2 Year             No         33536.0                  26.0      183   \n",
       "2   > 2 Years            Yes         38294.0                  26.0       27   \n",
       "3    < 1 Year             No         28619.0                 152.0      203   \n",
       "4    < 1 Year             No         27496.0                 152.0       39   \n",
       "\n",
       "   Response  \n",
       "0         1  \n",
       "1         0  \n",
       "2         1  \n",
       "3         0  \n",
       "4         0  "
      ]
     },
     "execution_count": 3,
     "metadata": {},
     "output_type": "execute_result"
    }
   ],
   "source": [
    "train.head()"
   ]
  },
  {
   "cell_type": "code",
   "execution_count": 26,
   "metadata": {},
   "outputs": [],
   "source": [
    "data=pd.concat([train,test])\n",
    "data.drop(['id'],axis=1,inplace=True)\n",
    "\n",
    "cat_col=['Gender', 'Driving_License', 'Region_Code','Previously_Insured', 'Vehicle_Age', 'Vehicle_Damage','Policy_Sales_Channel']\n",
    "for col in cat_col:\n",
    "    data[col]=data[col].astype(str)\n",
    "    data[col]=le.fit_transform(data[col])\n",
    "    \n",
    "train2=data[~data['Response'].isna()]\n",
    "test2=data[data['Response'].isna()]\n",
    "\n",
    "X_train=train2.drop(['Response'],axis=1)\n",
    "y=train2['Response']\n",
    "X_test=test2[X_train.columns]\n",
    "cat_cols=[X_train.columns.get_loc(c) for c in cat_col]"
   ]
  },
  {
   "cell_type": "code",
   "execution_count": 27,
   "metadata": {},
   "outputs": [],
   "source": [
    "clf_lgb = lgb.LGBMClassifier(boosting_type='gbdt', \n",
    "                      objective='binary',\n",
    "                      n_estimators=500, \n",
    "                      learning_rate=0.1,\n",
    "                      reg_alpha=3,\n",
    "                      categorical_feature = cat_cols,\n",
    "                      scale_pos_weight=7,\n",
    "                      random_state=101\n",
    "                     )\n",
    "\n",
    "clf_cat = cat.CatBoostClassifier(\n",
    "                    learning_rate=0.1,\n",
    "                    n_estimators=500,\n",
    "                     scale_pos_weight=7,\n",
    "                    cat_features=cat_cols,\n",
    "                    verbose=False,\n",
    "                    )"
   ]
  },
  {
   "cell_type": "code",
   "execution_count": 28,
   "metadata": {},
   "outputs": [
    {
     "name": "stdout",
     "output_type": "stream",
     "text": [
      "0.86,0.86,0.85,0.85,0.85,"
     ]
    }
   ],
   "source": [
    "skf = StratifiedKFold(n_splits=5,shuffle=True,random_state=101)\n",
    "pred_test_lgb =np.zeros((len(X_test),1))\n",
    "feat_imp =np.zeros((len(X_test.columns),1))\n",
    "\n",
    "for train_index,test_index in skf.split(X_train,y):\n",
    "    x_train,x_val = X_train.iloc[train_index],X_train.iloc[test_index]\n",
    "    y_train,y_val = y.iloc[train_index],y.iloc[test_index]\n",
    "    clf = clf_lgb\n",
    "    clf.fit(x_train,y_train)\n",
    "    print(np.round(roc_auc_score(y_val,clf.predict_proba(x_val)[:,1]),2),end=',')\n",
    "    #predictions\n",
    "    pred_test_lgb += clf.predict_proba(X_test)[:,1].reshape(-1,1)\n",
    "    feat_imp += clf.feature_importances_.reshape(-1,1)\n",
    "    \n",
    "pred_test_lgb = pred_test_lgb/5"
   ]
  },
  {
   "cell_type": "code",
   "execution_count": 29,
   "metadata": {},
   "outputs": [
    {
     "data": {
      "text/html": [
       "<div>\n",
       "<style scoped>\n",
       "    .dataframe tbody tr th:only-of-type {\n",
       "        vertical-align: middle;\n",
       "    }\n",
       "\n",
       "    .dataframe tbody tr th {\n",
       "        vertical-align: top;\n",
       "    }\n",
       "\n",
       "    .dataframe thead th {\n",
       "        text-align: right;\n",
       "    }\n",
       "</style>\n",
       "<table border=\"1\" class=\"dataframe\">\n",
       "  <thead>\n",
       "    <tr style=\"text-align: right;\">\n",
       "      <th></th>\n",
       "      <th>Response</th>\n",
       "    </tr>\n",
       "    <tr>\n",
       "      <th>id</th>\n",
       "      <th></th>\n",
       "    </tr>\n",
       "  </thead>\n",
       "  <tbody>\n",
       "    <tr>\n",
       "      <th>381110</th>\n",
       "      <td>0.002123</td>\n",
       "    </tr>\n",
       "    <tr>\n",
       "      <th>381111</th>\n",
       "      <td>0.820021</td>\n",
       "    </tr>\n",
       "    <tr>\n",
       "      <th>381112</th>\n",
       "      <td>0.743223</td>\n",
       "    </tr>\n",
       "    <tr>\n",
       "      <th>381113</th>\n",
       "      <td>0.018233</td>\n",
       "    </tr>\n",
       "    <tr>\n",
       "      <th>381114</th>\n",
       "      <td>0.000814</td>\n",
       "    </tr>\n",
       "  </tbody>\n",
       "</table>\n",
       "</div>"
      ],
      "text/plain": [
       "        Response\n",
       "id              \n",
       "381110  0.002123\n",
       "381111  0.820021\n",
       "381112  0.743223\n",
       "381113  0.018233\n",
       "381114  0.000814"
      ]
     },
     "execution_count": 29,
     "metadata": {},
     "output_type": "execute_result"
    }
   ],
   "source": [
    "sub=pd.DataFrame()\n",
    "pred=pred_test_lgb\n",
    "sub['Response']=pred.ravel()\n",
    "sub.index=test.id\n",
    "sub=sub[['Response']]\n",
    "sub.to_csv('lgb.csv')\n",
    "sub.head()"
   ]
  },
  {
   "cell_type": "code",
   "execution_count": 30,
   "metadata": {},
   "outputs": [
    {
     "name": "stdout",
     "output_type": "stream",
     "text": [
      "0.86,0.86,0.86,0.86,0.86,"
     ]
    }
   ],
   "source": [
    "skf = StratifiedKFold(n_splits=5,shuffle=True,random_state=101)\n",
    "cv_score = []\n",
    "pred_test_cat =np.zeros((len(X_test),1))\n",
    "\n",
    "for train_index,test_index in skf.split(X_train,y):\n",
    "    x_train,x_val = X_train.iloc[train_index],X_train.iloc[test_index]\n",
    "    y_train,y_val = y.iloc[train_index],y.iloc[test_index]\n",
    "    clf = clf_cat\n",
    "    clf.fit(x_train,y_train)\n",
    "    score = round(roc_auc_score(y_val,clf.predict_proba(x_val)[:,1]),2)\n",
    "    cv_score.append(score)\n",
    "    print(score,end=\",\")\n",
    "    #predictions\n",
    "    pred_test_cat += clf.predict_proba(X_test)[:,1].reshape(-1,1)\n",
    "    \n",
    "pred_test_cat = pred_test_cat/5"
   ]
  },
  {
   "cell_type": "code",
   "execution_count": 31,
   "metadata": {},
   "outputs": [
    {
     "data": {
      "text/html": [
       "<div>\n",
       "<style scoped>\n",
       "    .dataframe tbody tr th:only-of-type {\n",
       "        vertical-align: middle;\n",
       "    }\n",
       "\n",
       "    .dataframe tbody tr th {\n",
       "        vertical-align: top;\n",
       "    }\n",
       "\n",
       "    .dataframe thead th {\n",
       "        text-align: right;\n",
       "    }\n",
       "</style>\n",
       "<table border=\"1\" class=\"dataframe\">\n",
       "  <thead>\n",
       "    <tr style=\"text-align: right;\">\n",
       "      <th></th>\n",
       "      <th>Response</th>\n",
       "    </tr>\n",
       "    <tr>\n",
       "      <th>id</th>\n",
       "      <th></th>\n",
       "    </tr>\n",
       "  </thead>\n",
       "  <tbody>\n",
       "    <tr>\n",
       "      <th>381110</th>\n",
       "      <td>0.003210</td>\n",
       "    </tr>\n",
       "    <tr>\n",
       "      <th>381111</th>\n",
       "      <td>0.771082</td>\n",
       "    </tr>\n",
       "    <tr>\n",
       "      <th>381112</th>\n",
       "      <td>0.750622</td>\n",
       "    </tr>\n",
       "    <tr>\n",
       "      <th>381113</th>\n",
       "      <td>0.053375</td>\n",
       "    </tr>\n",
       "    <tr>\n",
       "      <th>381114</th>\n",
       "      <td>0.002245</td>\n",
       "    </tr>\n",
       "  </tbody>\n",
       "</table>\n",
       "</div>"
      ],
      "text/plain": [
       "        Response\n",
       "id              \n",
       "381110  0.003210\n",
       "381111  0.771082\n",
       "381112  0.750622\n",
       "381113  0.053375\n",
       "381114  0.002245"
      ]
     },
     "execution_count": 31,
     "metadata": {},
     "output_type": "execute_result"
    }
   ],
   "source": [
    "sub=pd.DataFrame()\n",
    "pred=pred_test_cat\n",
    "sub['Response']=pred.ravel()\n",
    "sub.index=test.id\n",
    "sub=sub[['Response']]\n",
    "sub.to_csv('cat.csv')\n",
    "sub.head()"
   ]
  },
  {
   "cell_type": "code",
   "execution_count": null,
   "metadata": {},
   "outputs": [],
   "source": [
    "policy=list(set(X_train['Policy_Sales_Channel']).intersection(set(X_test['Policy_Sales_Channel'])))\n",
    "X_train['Policy_Sales_Channel']=X_train['Policy_Sales_Channel'].apply(lambda x: x if x in policy else 'Missing')\n",
    "X_test['Policy_Sales_Channel']=X_test['Policy_Sales_Channel'].apply(lambda x: x if x in policy else 'Missing')"
   ]
  },
  {
   "cell_type": "code",
   "execution_count": null,
   "metadata": {},
   "outputs": [],
   "source": [
    "df_train=pd.get_dummies(data=X_train,columns=cat_col)\n",
    "df_test=pd.get_dummies(data=X_test,columns=cat_col)\n",
    "\n",
    "clf_xgb = xgb.XGBClassifier(\n",
    "                      objective='binary:logistic',\n",
    "                      n_estimators=100, \n",
    "                      learning_rate=0.1,\n",
    "                      scale_pos_weight=7,\n",
    "                      random_state=101\n",
    "                     )\n",
    "\n",
    "skf = StratifiedKFold(n_splits=5,shuffle=True,random_state=101)\n",
    "cv_score = []\n",
    "pred_test_xgb =np.zeros((len(X_test),1))\n",
    "\n",
    "for train_index,test_index in skf.split(df_train,y):\n",
    "    x_train,x_val = df_train.iloc[train_index],df_train.iloc[test_index]\n",
    "    y_train,y_val = y.iloc[train_index],y.iloc[test_index]\n",
    "    clf = clf_xgb\n",
    "    clf.fit(x_train,y_train)\n",
    "    score = round(roc_auc_score(y_val,clf.predict_proba(x_val)[:,1]),2)\n",
    "    cv_score.append(score)\n",
    "    print(score,end=\",\")\n",
    "    #predictions\n",
    "    pred_test_xgb += clf.predict_proba(df_test)[:,1].reshape(-1,1)\n",
    "    \n",
    "pred_test_lr = pred_test_lr/5"
   ]
  },
  {
   "cell_type": "code",
   "execution_count": null,
   "metadata": {},
   "outputs": [],
   "source": [
    "sub=pd.DataFrame()\n",
    "pred=pred_test_xgb\n",
    "sub['Response']=pred.ravel()\n",
    "sub.index=test.id\n",
    "sub=sub[['Response']]\n",
    "sub.to_csv('try1.csv')\n",
    "sub.head()"
   ]
  },
  {
   "cell_type": "code",
   "execution_count": null,
   "metadata": {},
   "outputs": [],
   "source": []
  }
 ],
 "metadata": {
  "kernelspec": {
   "display_name": "Python 3",
   "language": "python",
   "name": "python3"
  },
  "language_info": {
   "codemirror_mode": {
    "name": "ipython",
    "version": 3
   },
   "file_extension": ".py",
   "mimetype": "text/x-python",
   "name": "python",
   "nbconvert_exporter": "python",
   "pygments_lexer": "ipython3",
   "version": "3.7.3"
  }
 },
 "nbformat": 4,
 "nbformat_minor": 2
}
