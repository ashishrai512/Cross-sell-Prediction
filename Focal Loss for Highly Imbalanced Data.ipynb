{
 "cells": [
  {
   "cell_type": "code",
   "execution_count": 88,
   "metadata": {},
   "outputs": [
    {
     "data": {
      "text/html": [
       "<style>.container { width:100% !important; }</style>"
      ],
      "text/plain": [
       "<IPython.core.display.HTML object>"
      ]
     },
     "metadata": {},
     "output_type": "display_data"
    }
   ],
   "source": [
    "import pandas as pd\n",
    "import numpy as np\n",
    "\n",
    "import lightgbm as lgb\n",
    "import catboost as cat\n",
    "\n",
    "from sklearn.metrics import *\n",
    "from sklearn.model_selection import *\n",
    "from sklearn import preprocessing\n",
    "le = preprocessing.LabelEncoder()\n",
    "from scipy.misc import derivative\n",
    "\n",
    "from IPython.core.display import display, HTML\n",
    "display(HTML(\"<style>.container { width:100% !important; }</style>\"))\n",
    "import warnings\n",
    "warnings.filterwarnings(\"ignore\")\n",
    "\n",
    "pd.set_option('display.max_rows',None)\n",
    "pd.set_option('display.max_columns',None)"
   ]
  },
  {
   "cell_type": "code",
   "execution_count": 89,
   "metadata": {},
   "outputs": [],
   "source": [
    "train=pd.read_csv('train.csv')\n",
    "test=pd.read_csv('test.csv')"
   ]
  },
  {
   "cell_type": "code",
   "execution_count": 90,
   "metadata": {},
   "outputs": [],
   "source": [
    "data=pd.concat([train,test])\n",
    "data.drop(['id'],axis=1,inplace=True)\n",
    "\n",
    "cat_col=['Gender', 'Driving_License', 'Region_Code','Previously_Insured', 'Vehicle_Age', 'Vehicle_Damage','Policy_Sales_Channel']\n",
    "for col in cat_col:\n",
    "    data[col]=le.fit_transform(data[col])\n",
    "    \n",
    "train2=data[~data['Response'].isna()]\n",
    "test2=data[data['Response'].isna()]\n",
    "\n",
    "X_train=train2.drop(['Response'],axis=1)\n",
    "y=train2['Response']\n",
    "X_test=test2[X_train.columns]\n",
    "cat_cols=[X_train.columns.get_loc(c) for c in cat_col]"
   ]
  },
  {
   "cell_type": "code",
   "execution_count": 93,
   "metadata": {},
   "outputs": [],
   "source": [
    "def focal_loss_lgb_sk(y_true, y_pred, alpha, gamma):\n",
    "    a,g = alpha, gamma\n",
    "    def fl(x,t):\n",
    "        p = 1/(1+np.exp(-x))\n",
    "        return -( a*t + (1-a)*(1-t) ) * (( 1 - ( t*p + (1-t)*(1-p)) )**g) * ( t*np.log(p)+(1-t)*np.log(1-p) )\n",
    "    partial_fl = lambda x: fl(x, y_true)\n",
    "    grad = derivative(partial_fl, y_pred, n=1, dx=1e-6)\n",
    "    hess = derivative(partial_fl, y_pred, n=2, dx=1e-6)\n",
    "    return grad, hess\n",
    "\n",
    "def focal_loss_lgb_eval_error_sk(y_true, y_pred, alpha, gamma):\n",
    "    a,g = alpha, gamma\n",
    "    p = 1/(1+np.exp(-y_pred))\n",
    "    loss = -( a*y_true + (1-a)*(1-y_true) ) * (( 1 - ( y_true*p + (1-y_true)*(1-p)) )**g) * ( y_true*np.log(p)+(1-y_true)*np.log(1-p) )\n",
    "    return 'focal_loss', np.mean(loss), False\n",
    "\n",
    "focal_loss = lambda x,y: focal_loss_lgb_sk(x, y, 0.25,5)\n",
    "eval_error = lambda x,y: focal_loss_lgb_eval_error_sk(x, y, 0.25, 5)\n",
    "clf_lgb = lgb.LGBMClassifier(objective=focal_loss, \n",
    "                             learning_rate=0.1,\n",
    "                             n_estimators=500,\n",
    "                             scale_pos_weight=3,\n",
    "                            random_state=101)"
   ]
  },
  {
   "cell_type": "code",
   "execution_count": 94,
   "metadata": {},
   "outputs": [
    {
     "name": "stdout",
     "output_type": "stream",
     "text": [
      "0.86,0.86,0.86,0.86,0.86,0.86\n"
     ]
    }
   ],
   "source": [
    "skf = StratifiedKFold(n_splits=5,shuffle=True,random_state=101)\n",
    "cv_score = []\n",
    "pred_test_lgb =np.zeros((len(X_test),1))\n",
    "\n",
    "for train_index,test_index in skf.split(X_train,y):\n",
    "    x_train,x_val = X_train.iloc[train_index],X_train.iloc[test_index]\n",
    "    y_train,y_val = y.iloc[train_index],y.iloc[test_index]\n",
    "    clf =clf_lgb\n",
    "    clf.fit(x_train,y_train)\n",
    "    \n",
    "    pred_val=clf.predict_proba(x_val)\n",
    "    pred_val=1/(1+np.exp(-pred_val))#convert to probability\n",
    "    \n",
    "    score = round(roc_auc_score(y_val,pred_val),2)\n",
    "    cv_score.append(score)\n",
    "    print(score,end=\",\")\n",
    "    \n",
    "    #predictions\n",
    "    test_pred=clf.predict(X_test)\n",
    "    test_pred=1/(1+np.exp(-test_pred))         \n",
    "    pred_test_lgb += test_pred.reshape(-1,1)\n",
    "    \n",
    "pred_test_lgb = pred_test_lgb/5\n",
    "\n",
    "print(np.mean(cv_score))"
   ]
  },
  {
   "cell_type": "code",
   "execution_count": 95,
   "metadata": {},
   "outputs": [
    {
     "data": {
      "text/html": [
       "<div>\n",
       "<style scoped>\n",
       "    .dataframe tbody tr th:only-of-type {\n",
       "        vertical-align: middle;\n",
       "    }\n",
       "\n",
       "    .dataframe tbody tr th {\n",
       "        vertical-align: top;\n",
       "    }\n",
       "\n",
       "    .dataframe thead th {\n",
       "        text-align: right;\n",
       "    }\n",
       "</style>\n",
       "<table border=\"1\" class=\"dataframe\">\n",
       "  <thead>\n",
       "    <tr style=\"text-align: right;\">\n",
       "      <th></th>\n",
       "      <th>Response</th>\n",
       "    </tr>\n",
       "    <tr>\n",
       "      <th>id</th>\n",
       "      <th></th>\n",
       "    </tr>\n",
       "  </thead>\n",
       "  <tbody>\n",
       "    <tr>\n",
       "      <th>381110</th>\n",
       "      <td>0.155613</td>\n",
       "    </tr>\n",
       "    <tr>\n",
       "      <th>381111</th>\n",
       "      <td>0.419332</td>\n",
       "    </tr>\n",
       "    <tr>\n",
       "      <th>381112</th>\n",
       "      <td>0.413537</td>\n",
       "    </tr>\n",
       "    <tr>\n",
       "      <th>381113</th>\n",
       "      <td>0.253055</td>\n",
       "    </tr>\n",
       "    <tr>\n",
       "      <th>381114</th>\n",
       "      <td>0.135821</td>\n",
       "    </tr>\n",
       "  </tbody>\n",
       "</table>\n",
       "</div>"
      ],
      "text/plain": [
       "        Response\n",
       "id              \n",
       "381110  0.155613\n",
       "381111  0.419332\n",
       "381112  0.413537\n",
       "381113  0.253055\n",
       "381114  0.135821"
      ]
     },
     "execution_count": 95,
     "metadata": {},
     "output_type": "execute_result"
    }
   ],
   "source": [
    "sub=pd.DataFrame()\n",
    "sub['Response']=pred_test_lgb.ravel()\n",
    "sub.index=test.id\n",
    "sub=sub[['Response']]\n",
    "sub.to_csv('Focal.csv')\n",
    "sub.head()"
   ]
  },
  {
   "cell_type": "code",
   "execution_count": null,
   "metadata": {},
   "outputs": [],
   "source": []
  }
 ],
 "metadata": {
  "kernelspec": {
   "display_name": "Python 3",
   "language": "python",
   "name": "python3"
  },
  "language_info": {
   "codemirror_mode": {
    "name": "ipython",
    "version": 3
   },
   "file_extension": ".py",
   "mimetype": "text/x-python",
   "name": "python",
   "nbconvert_exporter": "python",
   "pygments_lexer": "ipython3",
   "version": "3.7.3"
  }
 },
 "nbformat": 4,
 "nbformat_minor": 2
}
